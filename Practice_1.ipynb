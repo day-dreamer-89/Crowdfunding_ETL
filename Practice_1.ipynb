{
  "nbformat": 4,
  "nbformat_minor": 0,
  "metadata": {
    "colab": {
      "provenance": [],
      "authorship_tag": "ABX9TyMt7CN/pcmosr+l96pxaGpS",
      "include_colab_link": true
    },
    "kernelspec": {
      "name": "python3",
      "display_name": "Python 3"
    },
    "language_info": {
      "name": "python"
    }
  },
  "cells": [
    {
      "cell_type": "markdown",
      "metadata": {
        "id": "view-in-github",
        "colab_type": "text"
      },
      "source": [
        "<a href=\"https://colab.research.google.com/github/day-dreamer-89/Crowdfunding_ETL/blob/main/Practice_1.ipynb\" target=\"_parent\"><img src=\"https://colab.research.google.com/assets/colab-badge.svg\" alt=\"Open In Colab\"/></a>"
      ]
    },
    {
      "cell_type": "code",
      "execution_count": 4,
      "metadata": {
        "colab": {
          "base_uri": "https://localhost:8080/"
        },
        "id": "oQ-Zre5vOQcu",
        "outputId": "3c2bd8bf-9a9a-446c-8d22-939d20e5af42"
      },
      "outputs": [
        {
          "output_type": "stream",
          "name": "stdout",
          "text": [
            "The result is: 70\n"
          ]
        }
      ],
      "source": [
        "# Exersise 1\n",
        "result = (6+4)*2-32+12//4*(6 + 4)*2 - 3**2 + 12//4*(6+4)*2-32+12//4\n",
        "print(f\"The result is: {result}\")"
      ]
    },
    {
      "cell_type": "code",
      "source": [
        "# Exersice 2\n",
        "a = 10\n",
        "a += 5\n",
        "print(f\"The new value of a is: {a}\")\n"
      ],
      "metadata": {
        "colab": {
          "base_uri": "https://localhost:8080/"
        },
        "id": "yPSIFtjZR5yB",
        "outputId": "861308ab-4e3e-435e-c7a5-de63d219f6a7"
      },
      "execution_count": 5,
      "outputs": [
        {
          "output_type": "stream",
          "name": "stdout",
          "text": [
            "The new value of a is: 15\n"
          ]
        }
      ]
    },
    {
      "cell_type": "code",
      "source": [
        "# Exercise 3\n",
        "x = 15\n",
        "y = 20\n",
        "is_less = x < y\n",
        "print(f\"Is x less than y? Result: {is_less}\")\n"
      ],
      "metadata": {
        "colab": {
          "base_uri": "https://localhost:8080/"
        },
        "id": "KX5_3yd9SOFt",
        "outputId": "a2884407-0064-4917-8617-d83350117a46"
      },
      "execution_count": 6,
      "outputs": [
        {
          "output_type": "stream",
          "name": "stdout",
          "text": [
            "Is x less than y? Result: True\n"
          ]
        }
      ]
    },
    {
      "cell_type": "code",
      "source": [
        "# Exercise 4\n",
        "num = 23\n",
        "remainder = num % 7\n",
        "print(f\"The remainder when num is divided by 7 is: {remainder}\")\n"
      ],
      "metadata": {
        "colab": {
          "base_uri": "https://localhost:8080/"
        },
        "id": "EP3pgWM4SdYO",
        "outputId": "ab096984-5ea4-4bf8-f61c-df83d28764e8"
      },
      "execution_count": 7,
      "outputs": [
        {
          "output_type": "stream",
          "name": "stdout",
          "text": [
            "The remainder when num is divided by 7 is: 2\n"
          ]
        }
      ]
    },
    {
      "cell_type": "code",
      "source": [
        "# Exercise 5\n",
        "string = \"Fresher Academy\"\n",
        "converted_string = string.replace('a', '@').replace('e', '3')\n",
        "print(f\"Converted string: {converted_string}\")\n"
      ],
      "metadata": {
        "colab": {
          "base_uri": "https://localhost:8080/"
        },
        "id": "PHs-MNTnSsiS",
        "outputId": "53fb8d4f-a34f-4fd3-f6ec-096faaffd133"
      },
      "execution_count": 8,
      "outputs": [
        {
          "output_type": "stream",
          "name": "stdout",
          "text": [
            "Converted string: Fr3sh3r Ac@d3my\n"
          ]
        }
      ]
    },
    {
      "cell_type": "code",
      "source": [
        "# Exercise 6\n",
        "int_var = 8\n",
        "float_var = 2.5\n",
        "sum_val = int_var + float_var\n",
        "difference = int_var - float_var\n",
        "product = int_var * float_var\n",
        "quotient = int_var / float_var\n",
        "\n",
        "print(f\"Sum: {sum_val}\")\n",
        "print(f\"Difference: {difference}\")\n",
        "print(f\"Product: {product}\")\n",
        "print(f\"Quotient: {quotient}\")\n"
      ],
      "metadata": {
        "colab": {
          "base_uri": "https://localhost:8080/"
        },
        "id": "-atm76ivS4An",
        "outputId": "8e7fb018-864f-4919-ed6f-20242ad00f9a"
      },
      "execution_count": 9,
      "outputs": [
        {
          "output_type": "stream",
          "name": "stdout",
          "text": [
            "Sum: 10.5\n",
            "Difference: 5.5\n",
            "Product: 20.0\n",
            "Quotient: 3.2\n"
          ]
        }
      ]
    },
    {
      "cell_type": "code",
      "source": [
        "# Exercise 7\n",
        "my_string = \"Python Programming\"\n",
        "length = len(my_string)\n",
        "uppercase_string = my_string.upper()\n",
        "reversed_string = my_string[::-1]\n",
        "\n",
        "print(f\"Length of the string: {length}\")\n",
        "print(f\"Uppercase string: {uppercase_string}\")\n",
        "print(f\"Reversed string: {reversed_string}\")\n"
      ],
      "metadata": {
        "colab": {
          "base_uri": "https://localhost:8080/"
        },
        "id": "9DlzZV5RTK9t",
        "outputId": "2fe4c3b5-600e-4fe6-d1c4-67892e955f47"
      },
      "execution_count": 10,
      "outputs": [
        {
          "output_type": "stream",
          "name": "stdout",
          "text": [
            "Length of the string: 18\n",
            "Uppercase string: PYTHON PROGRAMMING\n",
            "Reversed string: gnimmargorP nohtyP\n"
          ]
        }
      ]
    },
    {
      "cell_type": "code",
      "source": [
        "# Exercise 8\n",
        "my_list = [10, 20, 30, 40, 50]\n",
        "\n",
        "# Print the first and last elements\n",
        "print(f\"First element: {my_list[0]}, Last element: {my_list[-1]}\")\n",
        "\n",
        "# Add the element 60 to the end of the list\n",
        "my_list.append(60)\n",
        "print(f\"Updated list after adding 60: {my_list}\")\n",
        "\n",
        "# Remove the element at index 2\n",
        "removed_element = my_list.pop(2)\n",
        "print(f\"Updated list after removing element at index 2 ({removed_element}): {my_list}\")\n"
      ],
      "metadata": {
        "colab": {
          "base_uri": "https://localhost:8080/"
        },
        "id": "-vZNuRL6UE5E",
        "outputId": "999cf0b9-3e1f-40e9-bf0a-85f832449912"
      },
      "execution_count": 11,
      "outputs": [
        {
          "output_type": "stream",
          "name": "stdout",
          "text": [
            "First element: 10, Last element: 50\n",
            "Updated list after adding 60: [10, 20, 30, 40, 50, 60]\n",
            "Updated list after removing element at index 2 (30): [10, 20, 40, 50, 60]\n"
          ]
        }
      ]
    },
    {
      "cell_type": "code",
      "source": [
        "# Exercise 9\n",
        "my_dict = {\"name\": \"John\", \"age\": 25, \"city\": \"New Yok\"}\n",
        "\n",
        "# Print the value of the \"name\" key\n",
        "print(f\"Name: {my_dict['name']}\")\n",
        "\n",
        "# Add a new key-value pair \"country\": \"USA\"\n",
        "my_dict[\"country\"] = \"USA\"\n",
        "print(f\"Updated dictionary after adding 'country': {my_dict}\")\n",
        "\n",
        "# Update the \"age\" value to 26\n",
        "my_dict[\"age\"] = 26\n",
        "print(f\"Updated dictionary after changing 'age' to 26: {my_dict}\")\n"
      ],
      "metadata": {
        "colab": {
          "base_uri": "https://localhost:8080/"
        },
        "id": "dExkaQcnULzL",
        "outputId": "2beb46bc-4eee-4359-a981-a7b1ecf9c815"
      },
      "execution_count": 12,
      "outputs": [
        {
          "output_type": "stream",
          "name": "stdout",
          "text": [
            "Name: John\n",
            "Updated dictionary after adding 'country': {'name': 'John', 'age': 25, 'city': 'New Yok', 'country': 'USA'}\n",
            "Updated dictionary after changing 'age' to 26: {'name': 'John', 'age': 26, 'city': 'New Yok', 'country': 'USA'}\n"
          ]
        }
      ]
    },
    {
      "cell_type": "code",
      "source": [
        "# Exercise 10\n",
        "my_tuple = (100, 200, 300, 400, 500)\n",
        "\n",
        "# Print the first and last elements of the tuple\n",
        "print(f\"First element: {my_tuple[0]}, Last element: {my_tuple[-1]}\")\n",
        "\n",
        "# Print the length of the tuple\n",
        "print(f\"Length of the tuple: {len(my_tuple)}\")\n",
        "\n",
        "# Check if the number 300 exists in the tuple\n",
        "exists = 300 in my_tuple\n",
        "print(f\"Does 300 exist in the tuple? {exists}\")\n"
      ],
      "metadata": {
        "colab": {
          "base_uri": "https://localhost:8080/"
        },
        "id": "fXoWNGunUUIf",
        "outputId": "f5cb0c36-6bf6-4430-cb85-8010b71fbc39"
      },
      "execution_count": 13,
      "outputs": [
        {
          "output_type": "stream",
          "name": "stdout",
          "text": [
            "First element: 100, Last element: 500\n",
            "Length of the tuple: 5\n",
            "Does 300 exist in the tuple? True\n"
          ]
        }
      ]
    }
  ]
}