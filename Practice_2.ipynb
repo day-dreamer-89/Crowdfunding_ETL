{
  "nbformat": 4,
  "nbformat_minor": 0,
  "metadata": {
    "colab": {
      "provenance": [],
      "authorship_tag": "ABX9TyMV7MqSIz1kztI8bSBjJIbr",
      "include_colab_link": true
    },
    "kernelspec": {
      "name": "python3",
      "display_name": "Python 3"
    },
    "language_info": {
      "name": "python"
    }
  },
  "cells": [
    {
      "cell_type": "markdown",
      "metadata": {
        "id": "view-in-github",
        "colab_type": "text"
      },
      "source": [
        "<a href=\"https://colab.research.google.com/github/day-dreamer-89/Crowdfunding_ETL/blob/main/Practice_2.ipynb\" target=\"_parent\"><img src=\"https://colab.research.google.com/assets/colab-badge.svg\" alt=\"Open In Colab\"/></a>"
      ]
    },
    {
      "cell_type": "markdown",
      "source": [
        "# **Exercise 1**\n",
        "Exercise 1\n",
        "Write a program to list all numbers that are divisible by 5 not divisible 13, between 1900 and 2030 (both included).\n",
        "All numbers are displayed in a comma-separated sequence on a single line.\n"
      ],
      "metadata": {
        "id": "F0xt3PjyaS2E"
      }
    },
    {
      "cell_type": "code",
      "source": [
        "# Create the list for valid numbers\n",
        "numbers =[]\n",
        "# Loop the range of number\n",
        "for i in range(1900,2031):\n",
        "  if i%5==0 and i%13!=0:\n",
        "    numbers.append(i)\n",
        "#print the result as comma-separated sequence on a single line.\n",
        "print(\",\".join(map(str, numbers)))\n",
        "\n"
      ],
      "metadata": {
        "colab": {
          "base_uri": "https://localhost:8080/"
        },
        "id": "RH3Ynx3Wb8rW",
        "outputId": "6443b5dd-78a2-4e13-f7e3-fd7637c5d96b"
      },
      "execution_count": null,
      "outputs": [
        {
          "output_type": "stream",
          "name": "stdout",
          "text": [
            "1900,1905,1910,1915,1920,1925,1930,1935,1940,1945,1955,1960,1965,1970,1975,1980,1985,1990,1995,2000,2005,2010,2020,2025,2030\n"
          ]
        }
      ]
    },
    {
      "cell_type": "markdown",
      "source": [
        "# Exercise 2\n",
        "**Find and print the min and max of (20, 18, 23, 4, 8, 3, 19, 16, 45, 25). **"
      ],
      "metadata": {
        "id": "dp2qCHeze3Zc"
      }
    },
    {
      "cell_type": "code",
      "source": [
        "#Initialize a list with the numbers (20, 18, 23, 4, 8, 3, 19, 16, 45, 25).\n",
        "number_2 = [20, 18, 23, 4, 8, 3, 19, 16, 45, 25]\n",
        "#Use the min() function to find the smallest number.\n",
        "smallest_number = min(number_2)\n",
        "#Use the max() function to find the largest number.\n",
        "largest_number = max(number_2)\n",
        "#Print the results.\n",
        "print(f\"Số lớn nhât: {largest_number}\")\n",
        "print(f\"Số nhỏ nhất:{smallest_number}\")"
      ],
      "metadata": {
        "colab": {
          "base_uri": "https://localhost:8080/"
        },
        "id": "Qqo6TJaJfA-M",
        "outputId": "81dac8bf-934a-4f7f-d246-48929247a86b"
      },
      "execution_count": null,
      "outputs": [
        {
          "output_type": "stream",
          "name": "stdout",
          "text": [
            "Số lớn nhât: 45\n",
            "Số nhỏ nhất:3\n"
          ]
        }
      ]
    },
    {
      "cell_type": "markdown",
      "source": [
        "# Exercise 3\n",
        "**Find all square numbers smaller than 2030.**"
      ],
      "metadata": {
        "id": "mUp4YUKyvIkh"
      }
    },
    {
      "cell_type": "code",
      "source": [
        "# Initialize an empty list to store square numbers.\n",
        "square_numbers = []\n",
        "\n",
        "#Use a for loop to iterate through numbers starting from 1. Compute their squares using ** 2.\n",
        "for i in range(1,2030):\n",
        "  square = i**2\n",
        "  if square < 2030:\n",
        "    square_numbers.append(square)\n",
        "  else:\n",
        "    break\n",
        "print(\"Số bình phương:\",square_numbers)"
      ],
      "metadata": {
        "colab": {
          "base_uri": "https://localhost:8080/"
        },
        "id": "PqkXUZZwukz5",
        "outputId": "b04ee70b-e241-4435-b9c4-2d97a0107b42"
      },
      "execution_count": null,
      "outputs": [
        {
          "output_type": "stream",
          "name": "stdout",
          "text": [
            "Số bình phương: [1, 4, 9, 16, 25, 36, 49, 64, 81, 100, 121, 144, 169, 196, 225, 256, 289, 324, 361, 400, 441, 484, 529, 576, 625, 676, 729, 784, 841, 900, 961, 1024, 1089, 1156, 1225, 1296, 1369, 1444, 1521, 1600, 1681, 1764, 1849, 1936, 2025]\n"
          ]
        }
      ]
    },
    {
      "cell_type": "markdown",
      "source": [
        "# Exercise 4\n",
        "Find all pairs of numbers with an even product\n",
        "Description:\n",
        "Given two lists of integers list1 and list2.\n",
        "\n",
        "◦\tFind all pairs of numbers (x,y) that x*y is even.\n",
        "\n",
        "◦\tSkip pairs if either number is odd (use continue).\n",
        "\n",
        "◦\tStop immediately after finding 5 matching pairs (use break). **bold text**"
      ],
      "metadata": {
        "id": "QvA-Oy1fxG8o"
      }
    },
    {
      "cell_type": "code",
      "source": [
        "# define 2 list of interger\n",
        "list1 = [1, 2, 3, 4, 5]\n",
        "list2 = [6, 7, 8, 9, 10]\n",
        "# create an empty list to store valid pair and tracking matches\n",
        "pairs = []\n",
        "count = 0\n",
        "# nested loops to go through all combinations\n",
        "for x in list1:\n",
        "    for y in list2:\n",
        "        if x % 2 != 0 or y % 2 != 0:  # Skip if either number is odd\n",
        "            continue\n",
        "        pairs.append((x, y))  # Add the valid pair\n",
        "        count += 1\n",
        "        if count == 5:  # Stop after 5 pairs\n",
        "            break\n",
        "print(\"Các cặp có giá trị:\", pairs)\n"
      ],
      "metadata": {
        "colab": {
          "base_uri": "https://localhost:8080/"
        },
        "id": "iclaL71qxbsi",
        "outputId": "e9efa102-f986-4e79-aeff-b65eee8b5e15"
      },
      "execution_count": null,
      "outputs": [
        {
          "output_type": "stream",
          "name": "stdout",
          "text": [
            "Các cặp có giá trị: [(2, 6), (2, 8), (2, 10), (4, 6), (4, 8)]\n"
          ]
        }
      ]
    },
    {
      "cell_type": "markdown",
      "source": [
        "# Exercise 5\n",
        "**Find and print out even numbers in (20, 18, 23, 4, 8, 3, 19, 16, 45, 25). Finally, print the sum of these even numbers.**"
      ],
      "metadata": {
        "id": "3E7G1IjLbtfF"
      }
    },
    {
      "cell_type": "code",
      "source": [
        "# define the list\n",
        "number_5 = [20, 18, 23, 4, 8, 3, 19, 16, 45, 25]\n",
        "\n",
        "# create an empty list for even number\n",
        "even_numbers = []\n",
        "total = 0\n",
        "# loop to check even number\n",
        "for num in number_5:\n",
        "    if num % 2 == 0:\n",
        "      even_numbers.append(num)\n",
        "      total += num\n",
        "# print\n",
        "print(\"số chắn:\", even_numbers)\n",
        "print(\"tổng của số chẵn:\", total)\n",
        "\n"
      ],
      "metadata": {
        "colab": {
          "base_uri": "https://localhost:8080/"
        },
        "id": "4dYmk1sPzSdq",
        "outputId": "47daf8d7-de52-4aea-e397-611be61e51f6"
      },
      "execution_count": null,
      "outputs": [
        {
          "output_type": "stream",
          "name": "stdout",
          "text": [
            "số chắn: [20, 18, 4, 8, 16]\n",
            "tổng của số chẵn: 66\n"
          ]
        }
      ]
    },
    {
      "cell_type": "markdown",
      "source": [],
      "metadata": {
        "id": "AcFCIF1c0i48"
      }
    },
    {
      "cell_type": "markdown",
      "source": [
        "# Exercise 6\n",
        "Count the number of pairs divisible by 3\n",
        "Description:\n",
        "◦\tGiven two lists of integers list1 and list2.\n",
        "◦\tCount all pairs of numbers (x,y) (x, y) (x,y) such that x+yx + yx+y is divisible by 3.\n",
        "Print the total number of such pairs."
      ],
      "metadata": {
        "id": "JSPqMO3S0q1I"
      }
    },
    {
      "cell_type": "code",
      "source": [
        "# define 2 list\n",
        "list1 = [1, 2, 3, 7,8 ,9]\n",
        "list2 = [4, 5, 6, 10, 11, 12]\n",
        "count = 0\n",
        "# Use nested loops to go through all combinations\n",
        "for x in list1:\n",
        "    for y in list2:\n",
        "        if (x + y) % 3 == 0:\n",
        "            count += 1\n",
        "print(\"số cặp chia hết cho 3:\", count)\n"
      ],
      "metadata": {
        "colab": {
          "base_uri": "https://localhost:8080/"
        },
        "id": "qL9CYZmH1CL4",
        "outputId": "12e56287-bd38-4ed9-fe06-bde4abcc99fd"
      },
      "execution_count": null,
      "outputs": [
        {
          "output_type": "stream",
          "name": "stdout",
          "text": [
            "số cặp chia hết cho 3: 12\n"
          ]
        }
      ]
    },
    {
      "cell_type": "markdown",
      "source": [
        "# Exercise 7\n",
        "**Initialize a string my_string = \"Python Programming\". Print the following using formatted strings:**\n",
        "\n",
        "* The length of the string.\n",
        "\n",
        "* The string in uppercase.\n",
        "\n",
        "* The string reversed."
      ],
      "metadata": {
        "id": "qLauwDce2-vf"
      }
    },
    {
      "cell_type": "code",
      "source": [
        "# Initialize the string\n",
        "my_string = \"Python Programming\"\n",
        "\n",
        "# Perform operations\n",
        "length = len(my_string)\n",
        "upper_string = my_string.upper()\n",
        "reversed_string = my_string[::-1]\n",
        "\n",
        "# Print the results\n",
        "print(f\"Length: {length}\")\n",
        "print(f\"Uppercase: {upper_string}\")\n",
        "print(f\"Reversed: {reversed_string}\")\n"
      ],
      "metadata": {
        "colab": {
          "base_uri": "https://localhost:8080/"
        },
        "id": "wJ45k0s63dYI",
        "outputId": "7ab19b1c-9ecd-4a0e-8bf4-93e5a83f57e1"
      },
      "execution_count": null,
      "outputs": [
        {
          "output_type": "stream",
          "name": "stdout",
          "text": [
            "Length: 18\n",
            "Uppercase: PYTHON PROGRAMMING\n",
            "Reversed: gnimmargorP nohtyP\n"
          ]
        }
      ]
    },
    {
      "cell_type": "markdown",
      "source": [
        "# Exercise 8\n",
        "**Initialize a list my_list = [10, 20, 30, 40, 50].**\n",
        "*Perform the following operations and print the results using formatted strings:*\n",
        "* Print the first and last elements of the list.\n",
        "* Add the element 60 to the end of the list and print the updated list.\n",
        "* Remove the element at index 2 and print the updated list."
      ],
      "metadata": {
        "id": "pTCw-l0B4Apn"
      }
    },
    {
      "cell_type": "code",
      "source": [
        "# Initialize the list\n",
        "my_list = [10, 20, 30, 40, 50]\n",
        "\n",
        "# Print the first and last elements\n",
        "print(f\"First element: {my_list[0]}, Last element: {my_list[-1]}\")\n",
        "\n",
        "# Append 60\n",
        "my_list.append(60)\n",
        "print(\"Updated list after adding 60:\", my_list)\n",
        "\n",
        "# Remove the element at index 2\n",
        "my_list.pop(2)\n",
        "print(\"Updated list after removing index 2:\", my_list)\n"
      ],
      "metadata": {
        "colab": {
          "base_uri": "https://localhost:8080/"
        },
        "id": "5Txi4LCG4_3r",
        "outputId": "ecf5c6fd-7a6f-4162-9312-26d3dad6ca0e"
      },
      "execution_count": null,
      "outputs": [
        {
          "output_type": "stream",
          "name": "stdout",
          "text": [
            "First element: 10, Last element: 50\n",
            "Updated list after adding 60: [10, 20, 30, 40, 50, 60]\n",
            "Updated list after removing index 2: [10, 20, 40, 50, 60]\n"
          ]
        }
      ]
    },
    {
      "cell_type": "markdown",
      "source": [
        "# Exercise 9\n",
        "**Initialize a dictionary my_dict = \"name\": \"John\", \"age\": 25, \"city\": \"New York\"}.**\n",
        "*Perform the following tasks and print the results using formatted strings:*\n",
        "* Print the value of the \"name\" key.\n",
        "* Add a new key-value pair \"country\": \"USA\" and print the updated dictionary.\n",
        "* Update the \"age\" value to 26 and print the updated"
      ],
      "metadata": {
        "id": "-5sGrIJi4P82"
      }
    },
    {
      "cell_type": "code",
      "source": [
        "# Initialize the dictionary\n",
        "my_dict = {\"name\": \"John\", \"age\": 25, \"city\": \"New York\"}\n",
        "\n",
        "# Access and print the value of the \"name\" key\n",
        "print(f\"Name: {my_dict['name']}\")\n",
        "\n",
        "# Add a new key-value pair\n",
        "my_dict[\"country\"] = \"USA\"\n",
        "print(\"Updated dictionary:\", my_dict)\n",
        "\n",
        "# Update the \"age\" value\n",
        "my_dict[\"age\"] = 26\n",
        "print(\"Updated dictionary after changing age:\", my_dict)\n"
      ],
      "metadata": {
        "colab": {
          "base_uri": "https://localhost:8080/"
        },
        "id": "11KA3r0j5TH0",
        "outputId": "dd8536de-9ae2-4ba5-e409-70f2a8bc7343"
      },
      "execution_count": null,
      "outputs": [
        {
          "output_type": "stream",
          "name": "stdout",
          "text": [
            "Name: John\n",
            "Updated dictionary: {'name': 'John', 'age': 25, 'city': 'New York', 'country': 'USA'}\n",
            "Updated dictionary after changing age: {'name': 'John', 'age': 26, 'city': 'New York', 'country': 'USA'}\n"
          ]
        }
      ]
    },
    {
      "cell_type": "markdown",
      "source": [
        "**Exercise 10**\n",
        "**Initialize a tuple my_tuple = (100, 200, 300, 400, 500).**\n",
        "*Perform the following tasks and print the results using formatted strings:*\n",
        "* Print the first and last elements of the tuple.\n",
        "* Print the length of the tuple.\n",
        "Check if the number 300 exists in the tuple and print the result using a formatted string."
      ],
      "metadata": {
        "id": "xdmmYIjM4v8u"
      }
    },
    {
      "cell_type": "code",
      "source": [
        "# Initialize the tuple\n",
        "my_tuple = (100, 200, 300, 400, 500)\n",
        "\n",
        "# Access and print the first and last elements\n",
        "print(f\"First element: {my_tuple[0]}, Last element: {my_tuple[-1]}\")\n",
        "\n",
        "# Find the length of the tuple\n",
        "length = len(my_tuple)\n",
        "print(f\"Length of tuple: {length}\")\n",
        "\n",
        "# Check if 300 exists in the tuple\n",
        "is_present = 300 in my_tuple\n",
        "print(f\"Is 300 in tuple? {is_present}\")\n"
      ],
      "metadata": {
        "id": "f8lsEyqp5aYx",
        "outputId": "009c4b38-ab10-4c8e-a9db-c8f78e8f0ff4",
        "colab": {
          "base_uri": "https://localhost:8080/"
        }
      },
      "execution_count": null,
      "outputs": [
        {
          "output_type": "stream",
          "name": "stdout",
          "text": [
            "First element: 100, Last element: 500\n",
            "Length of tuple: 5\n",
            "Is 300 in tuple? True\n"
          ]
        }
      ]
    }
  ]
}